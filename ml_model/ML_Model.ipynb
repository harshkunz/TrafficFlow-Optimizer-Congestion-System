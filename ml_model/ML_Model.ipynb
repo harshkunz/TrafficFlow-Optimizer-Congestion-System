{
 "cells": [
  {
   "cell_type": "code",
   "execution_count": 3,
   "id": "086f4ee1",
   "metadata": {},
   "outputs": [],
   "source": [
    "import pandas as pd\n",
    "import numpy as np"
   ]
  },
  {
   "cell_type": "code",
   "execution_count": 20,
   "id": "14a50b91",
   "metadata": {},
   "outputs": [],
   "source": [
    "df = pd.read_csv('congestion_dataset.csv')"
   ]
  },
  {
   "cell_type": "code",
   "execution_count": 21,
   "id": "10cd4fb3",
   "metadata": {},
   "outputs": [
    {
     "data": {
      "text/html": [
       "<div>\n",
       "<style scoped>\n",
       "    .dataframe tbody tr th:only-of-type {\n",
       "        vertical-align: middle;\n",
       "    }\n",
       "\n",
       "    .dataframe tbody tr th {\n",
       "        vertical-align: top;\n",
       "    }\n",
       "\n",
       "    .dataframe thead th {\n",
       "        text-align: right;\n",
       "    }\n",
       "</style>\n",
       "<table border=\"1\" class=\"dataframe\">\n",
       "  <thead>\n",
       "    <tr style=\"text-align: right;\">\n",
       "      <th></th>\n",
       "      <th>_id</th>\n",
       "      <th>areaId</th>\n",
       "      <th>vehicleCount</th>\n",
       "      <th>avgSpeed</th>\n",
       "      <th>congestionLevel</th>\n",
       "      <th>congestionScore</th>\n",
       "      <th>timestamp</th>\n",
       "      <th>__v</th>\n",
       "    </tr>\n",
       "  </thead>\n",
       "  <tbody>\n",
       "    <tr>\n",
       "      <th>0</th>\n",
       "      <td>6840aa47932e30a284abc1b9</td>\n",
       "      <td>-82_-84</td>\n",
       "      <td>2</td>\n",
       "      <td>47.0</td>\n",
       "      <td>Low</td>\n",
       "      <td>53.0</td>\n",
       "      <td>2025-06-04T20:19:19.717Z</td>\n",
       "      <td>0</td>\n",
       "    </tr>\n",
       "    <tr>\n",
       "      <th>1</th>\n",
       "      <td>6840aa47932e30a284abc1bb</td>\n",
       "      <td>19_-111</td>\n",
       "      <td>5</td>\n",
       "      <td>43.6</td>\n",
       "      <td>Moderate</td>\n",
       "      <td>56.4</td>\n",
       "      <td>2025-06-04T20:19:19.722Z</td>\n",
       "      <td>0</td>\n",
       "    </tr>\n",
       "  </tbody>\n",
       "</table>\n",
       "</div>"
      ],
      "text/plain": [
       "                        _id   areaId  vehicleCount  avgSpeed congestionLevel  \\\n",
       "0  6840aa47932e30a284abc1b9  -82_-84             2      47.0             Low   \n",
       "1  6840aa47932e30a284abc1bb  19_-111             5      43.6        Moderate   \n",
       "\n",
       "   congestionScore                 timestamp  __v  \n",
       "0             53.0  2025-06-04T20:19:19.717Z    0  \n",
       "1             56.4  2025-06-04T20:19:19.722Z    0  "
      ]
     },
     "execution_count": 21,
     "metadata": {},
     "output_type": "execute_result"
    }
   ],
   "source": [
    "df.head(2)"
   ]
  },
  {
   "cell_type": "code",
   "execution_count": 22,
   "id": "bb9f43da",
   "metadata": {},
   "outputs": [],
   "source": [
    "df = df[['vehicleCount', 'avgSpeed', 'congestionLevel', 'congestionScore']]\n",
    "X = df[['vehicleCount', 'avgSpeed']]\n",
    "y = df['congestionScore']"
   ]
  },
  {
   "cell_type": "code",
   "execution_count": 48,
   "id": "70291a08",
   "metadata": {},
   "outputs": [
    {
     "data": {
      "image/png": "[encoded data removed]",
      "text/plain": [
       "<Figure size 800x500 with 1 Axes>"
      ]
     },
     "metadata": {},
     "output_type": "display_data"
    }
   ],
   "source": [
    "import matplotlib.pyplot as plt\n",
    "\n",
    "congestion_counts = df['congestionLevel'].value_counts()\n",
    "\n",
    "levels = [\"Low\", \"Moderate\", \"High\"]\n",
    "colors = ['green', 'blue', 'red']\n",
    "\n",
    "plt.figure(figsize=(8, 5), facecolor='black')\n",
    "ax = congestion_counts.loc[levels].plot(kind='bar', color=colors)\n",
    "\n",
    "ax.set_facecolor('black')\n",
    "\n",
    "plt.title(\"Number of Records per Congestion Level\", color='white')\n",
    "plt.xlabel(\"Congestion Level\", color='white')\n",
    "plt.ylabel(\"Count\", color='white')\n",
    "plt.xticks(rotation=0, color='white')\n",
    "plt.yticks(color='white')\n",
    "plt.grid(axis='y', linestyle='--', alpha=0.3, color='white')\n",
    "\n",
    "for p in ax.patches:\n",
    "    height = p.get_height()\n",
    "    ax.text(\n",
    "        p.get_x() + p.get_width() / 2,   \n",
    "        height / 2,                     \n",
    "        str(int(height)),               \n",
    "        ha='center',                   \n",
    "        va='center',                   \n",
    "        color='white',                 \n",
    "        fontsize=12\n",
    "    )\n",
    "\n",
    "plt.tight_layout()\n",
    "plt.show()"
   ]
  },
  {
   "cell_type": "code",
   "execution_count": 49,
   "id": "1b5143fc",
   "metadata": {},
   "outputs": [],
   "source": [
    "from sklearn.model_selection import train_test_split\n",
    "from sklearn.linear_model import LinearRegression\n",
    "from sklearn.metrics import mean_squared_error, r2_score\n",
    "\n",
    "X_train, X_test, y_train, y_test = train_test_split(X, y, test_size=0.2, random_state=42)\n",
    "\n",
    "model = LinearRegression()\n",
    "model.fit(X_train, y_train)\n",
    "\n",
    "y_pred = model.predict(X_test)\n",
    "mse = mean_squared_error(y_test, y_pred)\n",
    "r2 = r2_score(y_test, y_pred)"
   ]
  },
  {
   "cell_type": "code",
   "execution_count": 50,
   "id": "49051557",
   "metadata": {},
   "outputs": [
    {
     "name": "stdout",
     "output_type": "stream",
     "text": [
      "MSE: 0.00\n",
      "R2 Score: 1.00\n"
     ]
    }
   ],
   "source": [
    "print(f\"MSE: {mse:.2f}\")\n",
    "print(f\"R2 Score: {r2:.2f}\")"
   ]
  },
  {
   "cell_type": "code",
   "execution_count": 51,
   "id": "d1df13d3",
   "metadata": {},
   "outputs": [
    {
     "data": {
      "text/plain": [
       "['congestion_model.pkl']"
      ]
     },
     "execution_count": 51,
     "metadata": {},
     "output_type": "execute_result"
    }
   ],
   "source": [
    "import joblib\n",
    "joblib.dump(model, 'congestion_model.pkl')"
   ]
  }
 ],
 "metadata": {
  "kernelspec": {
   "display_name": "Python 3",
   "language": "python",
   "name": "python3"
  },
  "language_info": {
   "codemirror_mode": {
    "name": "ipython",
    "version": 3
   },
   "file_extension": ".py",
   "mimetype": "text/x-python",
   "name": "python",
   "nbconvert_exporter": "python",
   "pygments_lexer": "ipython3",
   "version": "3.13.0"
  }
 },
 "nbformat": 4,
 "nbformat_minor": 5
}
